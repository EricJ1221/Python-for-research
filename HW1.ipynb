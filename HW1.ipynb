{
 "cells": [
  {
   "cell_type": "markdown",
   "metadata": {},
   "source": [
    "# Using Python for Research Homework: Week 1\n",
    "\n",
    "In this homework, we will use objects, functions, and randomness to find the length of documents, approximate $\\pi$, and smooth out random noise."
   ]
  },
  {
   "cell_type": "markdown",
   "metadata": {},
   "source": [
    "### Exercise 1\n",
    "\n",
    "In this five-part exercise, we will count the frequency of each letter in a given string.\n",
    "\n",
    "#### Exercise 1a\n",
    "\n",
    "- Import the `string` library.\n",
    "- Create a variable `alphabet` that consists of the lowercase and uppercase letters in the English alphabet using the `ascii_letters` data attribute of the `string` library."
   ]
  },
  {
   "cell_type": "code",
   "execution_count": 2,
   "metadata": {},
   "outputs": [
    {
     "name": "stdout",
     "output_type": "stream",
     "text": [
      "abcdefghijklmnopqrstuvwxyzABCDEFGHIJKLMNOPQRSTUVWXYZ\n"
     ]
    }
   ],
   "source": [
    "import string\n",
    "\n",
    "# write your code here!\n",
    "alphabet = string.ascii_letters\n",
    "\n",
    "# Output the alphabet\n",
    "print(alphabet)"
   ]
  },
  {
   "cell_type": "markdown",
   "metadata": {},
   "source": [
    "#### Exercise 1b\n",
    "- The lower and upper case letters of the English alphabet should stored as the string variable `alphabet`.\n",
    "- Consider the sentence 'Jim quickly realized that the beautiful gowns are expensive'. Create a dictionary `count_letters` with keys consisting of each unique letter in the sentence and values consisting of the number of times each letter is used in this sentence. Count upper case and lower case letters separately in the dictionary."
   ]
  },
  {
   "cell_type": "code",
   "execution_count": 3,
   "metadata": {},
   "outputs": [
    {
     "name": "stdout",
     "output_type": "stream",
     "text": [
      "{'J': 1, 'i': 5, 'm': 1, 'q': 1, 'u': 3, 'c': 1, 'k': 1, 'l': 3, 'y': 1, 'r': 2, 'e': 8, 'a': 4, 'z': 1, 'd': 1, 't': 4, 'h': 2, 'b': 1, 'f': 1, 'g': 1, 'o': 1, 'w': 1, 'n': 2, 's': 2, 'x': 1, 'p': 1, 'v': 1}\n"
     ]
    }
   ],
   "source": [
    "# Given sentence\n",
    "sentence = 'Jim quickly realized that the beautiful gowns are expensive'\n",
    "\n",
    "# Initialize an empty dictionary to store the letter counts\n",
    "count_letters = {}\n",
    "\n",
    "# Iterate through each character in the sentence\n",
    "for char in sentence:\n",
    "    # Check if the character is in the alphabet (i.e., it is a letter)\n",
    "    if char in alphabet:\n",
    "        # If the letter is already a key in the dictionary, increment its count\n",
    "        if char in count_letters:\n",
    "            count_letters[char] += 1\n",
    "        # If the letter is not a key, add it with an initial count of 1\n",
    "        else:\n",
    "            count_letters[char] = 1\n",
    "\n",
    "# Output the dictionary with the count of each letter\n",
    "print(count_letters)"
   ]
  },
  {
   "cell_type": "markdown",
   "metadata": {},
   "source": [
    "#### Exercise 1c\n",
    "- Rewrite your code from 1b to make a function called `counter` that takes a string `input_string` and returns a dictionary of letter counts `count_letters`.\n",
    "- Use your function to call `counter(sentence)`."
   ]
  },
  {
   "cell_type": "code",
   "execution_count": 4,
   "metadata": {},
   "outputs": [
    {
     "name": "stdout",
     "output_type": "stream",
     "text": [
      "{'J': 1, 'i': 5, 'm': 1, 'q': 1, 'u': 3, 'c': 1, 'k': 1, 'l': 3, 'y': 1, 'r': 2, 'e': 8, 'a': 4, 'z': 1, 'd': 1, 't': 4, 'h': 2, 'b': 1, 'f': 1, 'g': 1, 'o': 1, 'w': 1, 'n': 2, 's': 2, 'x': 1, 'p': 1, 'v': 1}\n"
     ]
    }
   ],
   "source": [
    "# write your code here!\n",
    "def counter(input_string):\n",
    "    # Initialize an empty dictionary to store the letter counts\n",
    "    count_letters = {}\n",
    "\n",
    "    # Iterate through each character in the sentence\n",
    "    for char in sentence:\n",
    "        # Check if the character is in the alphabet (i.e., it is a letter)\n",
    "        if char in alphabet:\n",
    "            # If the letter is already a key in the dictionary, increment its count\n",
    "            if char in count_letters:\n",
    "                count_letters[char] += 1\n",
    "            # If the letter is not a key, add it with an initial count of 1\n",
    "            else:\n",
    "                count_letters[char] = 1\n",
    "\n",
    "    return count_letters\n",
    "\n",
    "# Given sentence\n",
    "sentence = 'Jim quickly realized that the beautiful gowns are expensive'\n",
    "\n",
    "# Call the function with the sentence\n",
    "result = counter(sentence)\n",
    "\n",
    "# Output the result\n",
    "print(result)"
   ]
  },
  {
   "cell_type": "markdown",
   "metadata": {},
   "source": [
    "#### Exercise 1d\n",
    "- Abraham Lincoln was a president during the American Civil War. His famous 1863 Gettysburg Address has been stored as `address`. Use the `counter` function from 1c to return a dictionary consisting of the count of each letter in this address and save it as `address_count`."
   ]
  },
  {
   "cell_type": "code",
   "execution_count": 5,
   "metadata": {},
   "outputs": [
    {
     "name": "stdout",
     "output_type": "stream",
     "text": [
      "{'J': 1, 'i': 5, 'm': 1, 'q': 1, 'u': 3, 'c': 1, 'k': 1, 'l': 3, 'y': 1, 'r': 2, 'e': 8, 'a': 4, 'z': 1, 'd': 1, 't': 4, 'h': 2, 'b': 1, 'f': 1, 'g': 1, 'o': 1, 'w': 1, 'n': 2, 's': 2, 'x': 1, 'p': 1, 'v': 1}\n"
     ]
    }
   ],
   "source": [
    "address = \"\"\"Four score and seven years ago our fathers brought forth on this continent, a new nation, \n",
    "conceived in Liberty, and dedicated to the proposition that all men are created equal. Now we are engaged in a \n",
    "great civil war, testing whether that nation, or any nation so conceived and so dedicated, can long endure. \n",
    "We are met on a great battle-field of that war. We have come to dedicate a portion of that field, as a final \n",
    "resting place for those who here gave their lives that that nation might live. It is altogether fitting and proper \n",
    "that we should do this. But, in a larger sense, we can not dedicate -- we can not consecrate -- we can not hallow -- \n",
    "this ground. The brave men, living and dead, who struggled here, have consecrated it, far above our poor power to add \n",
    "or detract. The world will little note, nor long remember what we say here, but it can never forget what they did here. \n",
    "It is for us the living, rather, to be dedicated here to the unfinished work which they who fought here have thus far so \n",
    "nobly advanced. It is rather for us to be here dedicated to the great task remaining before us -- that from these honored \n",
    "dead we take increased devotion to that cause for which they gave the last full measure of devotion -- that we here \n",
    "highly resolve that these dead shall not have died in vain -- that this nation, under God, shall have a new birth of \n",
    "freedom -- and that government of the people, by the people, for the people, shall not perish from the earth.\"\"\"   \n",
    "\n",
    "# Write your code here!\n",
    "\n",
    "address_count = counter(address)\n",
    "\n",
    "print(address_count)\n"
   ]
  },
  {
   "cell_type": "markdown",
   "metadata": {},
   "source": [
    "#### Exercise 1f\n",
    "- The frequency of each letter in the Gettysburg Address is already stored as `address_count`. Use this dictionary to find the most common letter in the Gettysburg address."
   ]
  },
  {
   "cell_type": "code",
   "execution_count": 6,
   "metadata": {},
   "outputs": [
    {
     "name": "stdout",
     "output_type": "stream",
     "text": [
      "The most common letter is 'e' with a frequency of 8.\n"
     ]
    }
   ],
   "source": [
    "# write your code here!\n",
    "# Find the most common letter in the address_count dictionary\n",
    "most_common_letter = max(address_count, key=address_count.get)\n",
    "most_common_frequency = address_count[most_common_letter]\n",
    "\n",
    "# Output the result\n",
    "print(f\"The most common letter is '{most_common_letter}' with a frequency of {most_common_frequency}.\")"
   ]
  },
  {
   "cell_type": "markdown",
   "metadata": {},
   "source": [
    "### Exercise 2\n",
    "\n",
    "Consider a circle inscribed in a square. The ratio of their areas (the ratio of the area of the circle to the area of the square) is $\\frac{\\pi}{4}$. In this six-part exercise, we will find a way to approximate this value.\n",
    "\n",
    "#### Exercise 2a\n",
    "- Using the `math` library, calculate and print the value of $\\frac{\\pi}{4}$"
   ]
  },
  {
   "cell_type": "code",
   "execution_count": 7,
   "metadata": {},
   "outputs": [
    {
     "name": "stdout",
     "output_type": "stream",
     "text": [
      "0.7853981633974483\n"
     ]
    }
   ],
   "source": [
    "# write your code here\n",
    "import math\n",
    "\n",
    "print(math.pi/4)"
   ]
  },
  {
   "cell_type": "markdown",
   "metadata": {},
   "source": [
    "#### Exercise 2b\n",
    "- Using `random.uniform()`, create a function `rand()` that generates a single float between $-1$ and $1$.\n",
    "- Call `rand()` once. For us to be able to check your solution, we will use `random.seed()` to fix the seed value of the random number generator."
   ]
  },
  {
   "cell_type": "code",
   "execution_count": 14,
   "metadata": {},
   "outputs": [
    {
     "name": "stdout",
     "output_type": "stream",
     "text": [
      "-0.7312715117751976\n"
     ]
    }
   ],
   "source": [
    "import random\n",
    "\n",
    "random.seed(1) # Fixes the seed of the random number generator.\n",
    "\n",
    "def rand():\n",
    "   single_float = random.uniform(-1,1)\n",
    "   print(single_float)\n",
    "\n",
    "rand()"
   ]
  },
  {
   "cell_type": "markdown",
   "metadata": {},
   "source": [
    "#### Exercise 2c\n",
    "- The distance between two points x and y is the square root of the sum of squared differences along each dimension of x and y. Write a function` distance(x, y)` that takes two vectors as its input and outputs the distance between them. Use your function to find the distance between $x=(0,0)$ and $y=(1,1)$."
   ]
  },
  {
   "cell_type": "code",
   "execution_count": 16,
   "metadata": {},
   "outputs": [
    {
     "name": "stdout",
     "output_type": "stream",
     "text": [
      "1.4142135623730951\n"
     ]
    }
   ],
   "source": [
    "import math\n",
    "\n",
    "# Define the function 'distance' to calculate the distance between two vectors\n",
    "def distance(x, y):\n",
    "    # Use the Euclidean distance formula\n",
    "    distance_between = math.sqrt((x[0] - y[0])**2 + (x[1] - y[1])**2)\n",
    "    return distance_between\n",
    "\n",
    "# Example: Find the distance between x = (0, 0) and y = (1, 1)\n",
    "x = (0, 0)\n",
    "y = (1, 1)\n",
    "\n",
    "# Call the function and print the result\n",
    "print(distance(x, y))\n"
   ]
  },
  {
   "cell_type": "markdown",
   "metadata": {},
   "source": [
    "#### Exercise 2d\n",
    "\n",
    "- Write a function `in_circle(x, origin)` that determines whether a point in a two dimensional plane falls within a unit circle surrounding a given origin.\n",
    "    - Your function should return a boolean `True` if the distance between `x` and `origin` is less than 1 and `False` otherwise.\n",
    "    - Use `distance(x, y)` as defined in 2c.\n",
    "- Use your function to determine whether the point (1,1) lies within the unit circle centered at (0,0)."
   ]
  },
  {
   "cell_type": "code",
   "execution_count": 17,
   "metadata": {},
   "outputs": [
    {
     "name": "stdout",
     "output_type": "stream",
     "text": [
      "False\n"
     ]
    }
   ],
   "source": [
    "import math\n",
    "\n",
    "# Define the function 'in_circle' to determine if a point is within the unit circle\n",
    "def in_circle(x, origin=(0, 0)):\n",
    "    # Calculate the distance between the point and the origin\n",
    "    dist = distance(x, origin)\n",
    "    \n",
    "    # Return True if the distance is less than 1, otherwise False\n",
    "    return dist < 1\n",
    "\n",
    "# Example: Check if the point (1, 1) is within the unit circle centered at (0, 0)\n",
    "point = (1, 1)\n",
    "result = in_circle(point)\n",
    "\n",
    "# Output the result\n",
    "print(result)"
   ]
  },
  {
   "cell_type": "markdown",
   "metadata": {},
   "source": [
    "#### Exercise 2e\n",
    "\n",
    "- Create a list `inside` of `R=10000` booleans that determines whether or not a point falls within the unit circle centered at `(0,0)`. \n",
    "    - Use the `rand` function from 2b to generate `R` randomly located points.\n",
    "    - Use the function `in_circle` to test whether or not a given point falls within the unit circle.\n",
    "- Find the proportion of points that fall within the circle by summing all `True` values in the `inside` list; then divide the answer by `R` to obtain a proportion.\n",
    "- Print your answer. This proportion is an estimate of the ratio of the two areas!"
   ]
  },
  {
   "cell_type": "code",
   "execution_count": 26,
   "metadata": {},
   "outputs": [
    {
     "name": "stdout",
     "output_type": "stream",
     "text": [
      "Proportion of points inside the unit circle: 0.779\n"
     ]
    }
   ],
   "source": [
    "import random\n",
    "import math\n",
    "\n",
    "# Function to generate random points\n",
    "def rand():\n",
    "    # Generate a random float between -1 and 1 for both x and y\n",
    "    return (random.uniform(-1, 1), random.uniform(-1, 1))\n",
    "\n",
    "# Function to calculate the distance between two points\n",
    "def distance(x, y):\n",
    "    return math.sqrt((x[0] - y[0])**2 + (x[1] - y[1])**2)\n",
    "\n",
    "# Function to check if a point is inside the unit circle\n",
    "def in_circle(x, origin=(0, 0)):\n",
    "    return distance(x, origin) < 1\n",
    "\n",
    "# Fix the seed for reproducibility\n",
    "random.seed(1)\n",
    "\n",
    "# Number of random points to generate\n",
    "R = 10000\n",
    "\n",
    "# List to store boolean values indicating whether the point is inside the circle\n",
    "inside = []\n",
    "\n",
    "# Generate R random points and check if each one is inside the unit circle\n",
    "for _ in range(R):\n",
    "    point = rand()  # Generate a random point\n",
    "    inside.append(in_circle(point))  # Append True or False based on in_circle check\n",
    "\n",
    "# Calculate the proportion of points inside the circle\n",
    "proportion_inside = sum(inside) / R\n",
    "\n",
    "# Print the result\n",
    "print(f\"Proportion of points inside the unit circle: {proportion_inside}\")\n"
   ]
  },
  {
   "cell_type": "markdown",
   "metadata": {},
   "source": [
    "#### Exercise 2f\n",
    "\n",
    "- Find the difference between your estimate from part 2e and `math.pi / 4`. Note: `inside` and `R` are defined as in Exercise 2e."
   ]
  },
  {
   "cell_type": "code",
   "execution_count": 27,
   "metadata": {},
   "outputs": [
    {
     "name": "stdout",
     "output_type": "stream",
     "text": [
      "-0.006398163397448253\n"
     ]
    }
   ],
   "source": [
    "# write your code here!\n",
    "difference = proportion_inside - (math.pi/4)\n",
    "print(difference)\n"
   ]
  },
  {
   "cell_type": "markdown",
   "metadata": {},
   "source": [
    "### Exercise 3\n",
    "\n",
    "A list of numbers representing measurements obtained from a system of interest can often be noisy. One way to deal with noise is to smooth the values by replacing each value with the average of the value and the values of its neighbors.\n",
    "\n",
    "#### Exercise 3a\n",
    "\n",
    "- Write a function `moving_window_average(x, n_neighbors)` that takes a list `x` and the number of neighbors `n_neighbors` on either side of a given member of the list to consider.\n",
    "- For each value in `x`, `moving_window_average(x, n_neighbors)` computes the average of the value and the values of its neighbors.\n",
    "- `moving_window_average` should return a list of averaged values that is the same length as the original list.\n",
    "- If there are not enough neighbors (for cases near the edge), substitute the original value for a neighbor for each missing neighbor.\n",
    "- Use your function to find the moving window sum of `x=[0,10,5,3,1,5]` and `n_neighbors=1`."
   ]
  },
  {
   "cell_type": "code",
   "execution_count": 28,
   "metadata": {},
   "outputs": [
    {
     "name": "stdout",
     "output_type": "stream",
     "text": [
      "[3.3333333333333335, 5.0, 6.0, 3.0, 3.0, 3.6666666666666665]\n"
     ]
    }
   ],
   "source": [
    "def moving_window_average(x, n_neighbors=1):\n",
    "    n = len(x)  # Length of the input list\n",
    "    width = n_neighbors * 2 + 1  # Total number of elements in the window\n",
    "\n",
    "    # Extend the list by repeating the first and last values to handle the edges\n",
    "    x_extended = [x[0]] * n_neighbors + x + [x[-1]] * n_neighbors\n",
    "\n",
    "    # Compute the moving window averages\n",
    "    result = []\n",
    "    for i in range(n):\n",
    "        window = x_extended[i : i + width]  # Take the window of values\n",
    "        result.append(sum(window) / len(window))  # Compute the average and append it\n",
    "\n",
    "    return result\n",
    "\n",
    "# Test the function with the example input\n",
    "x = [0, 10, 5, 3, 1, 5]\n",
    "print(moving_window_average(x, 1))\n"
   ]
  },
  {
   "cell_type": "markdown",
   "metadata": {},
   "source": [
    "#### Exercise 3b\n",
    "- Compute and store `R=1000` random values from 0-1 as `x`.\n",
    "- Compute the moving window average for `x` for values of `n_neighbors` ranging from 1 to 9 inclusive.\n",
    "- Store `x` as well as each of these averages as consecutive lists in a list called `Y`"
   ]
  },
  {
   "cell_type": "code",
   "execution_count": 30,
   "metadata": {},
   "outputs": [
    {
     "name": "stdout",
     "output_type": "stream",
     "text": [
      "List 0: [0.13436424411240122, 0.8474337369372327, 0.763774618976614, 0.2550690257394217, 0.49543508709194095, 0.4494910647887381, 0.651592972722763, 0.7887233511355132, 0.0938595867742349, 0.02834747652200631]\n",
      "List 1: [0.3720540750540117, 0.5818575333420827, 0.6220924605510895, 0.5047595772693255, 0.3999983925400336, 0.5321730415344806, 0.6299357962156714, 0.511391970210837, 0.30364347147725146, 0.31932405573870365]\n",
      "List 2: [0.40286021765021013, 0.4270011739756141, 0.49921534257152206, 0.5622407067067895, 0.5230725538638955, 0.5280623002956754, 0.4958204125026381, 0.40240289038865107, 0.47965769821487747, 0.4358925172513355]\n"
     ]
    }
   ],
   "source": [
    "import random\n",
    "\n",
    "# Fixing the rand function to generate a single random float between 0 and 1\n",
    "def rand():\n",
    "    return random.uniform(0, 1)\n",
    "\n",
    "# Fix the seed for reproducibility\n",
    "random.seed(1)\n",
    "\n",
    "# Generate R=1000 random values between 0 and 1\n",
    "R = 1000\n",
    "x = [rand() for _ in range(R)]\n",
    "\n",
    "# Initialize the list Y with the original values of x\n",
    "Y = [x]\n",
    "\n",
    "# Compute the moving window averages for n_neighbors ranging from 1 to 9\n",
    "for n_neighbors in range(1, 10):\n",
    "    Y.append(moving_window_average(x, n_neighbors))\n",
    "\n",
    "# Output the first few lists in Y for verification\n",
    "for i, y in enumerate(Y[:3]):  # Just printing the first three lists to verify\n",
    "    print(f\"List {i}:\", y[:10])  # Print first 10 elements for readability\n"
   ]
  },
  {
   "cell_type": "markdown",
   "metadata": {},
   "source": [
    "#### Exercise 3c\n",
    "\n",
    "- For each list in `Y`, calculate and store the range (the maximum minus the minimum) in a new list ranges.\n",
    "- Print your answer. As the window width increases, does the range of each list increase or decrease? Why do you think that is?"
   ]
  },
  {
   "cell_type": "code",
   "execution_count": 31,
   "metadata": {},
   "outputs": [
    {
     "name": "stdout",
     "output_type": "stream",
     "text": [
      "[0.9973152343362711, 0.9128390185520854, 0.801645771909397, 0.7137391224212468, 0.6230146948375028, 0.5042284086774562, 0.5071013753101629, 0.4590090496908159, 0.44659549539083265, 0.4433696944090051]\n",
      "As the window width increases, the range decreases.\n"
     ]
    }
   ],
   "source": [
    "# Calculate the range for each list in Y (maximum - minimum)\n",
    "ranges = [max(y) - min(y) for y in Y]\n",
    "\n",
    "# Output the ranges\n",
    "print(ranges)\n",
    "\n",
    "# Explanation of the trend\n",
    "if ranges[-1] < ranges[0]:\n",
    "    print(\"As the window width increases, the range decreases.\")\n",
    "else:\n",
    "    print(\"As the window width increases, the range increases.\")\n"
   ]
  }
 ],
 "metadata": {
  "kernelspec": {
   "display_name": "PythonForResearchCourse",
   "language": "python",
   "name": "python3"
  },
  "language_info": {
   "codemirror_mode": {
    "name": "ipython",
    "version": 3
   },
   "file_extension": ".py",
   "mimetype": "text/x-python",
   "name": "python",
   "nbconvert_exporter": "python",
   "pygments_lexer": "ipython3",
   "version": "3.11.10"
  }
 },
 "nbformat": 4,
 "nbformat_minor": 2
}
